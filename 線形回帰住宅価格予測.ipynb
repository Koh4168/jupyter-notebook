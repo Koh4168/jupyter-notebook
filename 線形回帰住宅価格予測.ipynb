{
 "cells": [
  {
   "cell_type": "code",
   "execution_count": 2,
   "metadata": {},
   "outputs": [],
   "source": [
    "import pandas as pd \n",
    "house = pd.read_csv('https://raw.githubusercontent.com/we-b/datasets_for_ai/master/cal_house.csv')"
   ]
  },
  {
   "cell_type": "code",
   "execution_count": null,
   "metadata": {},
   "outputs": [],
   "source": [
    "不動産業界でエンジニアをしているあなたは、営業部から不動産情報のデータを用いて\n",
    "新しい物件の適切な住宅価格を提案できる仕組みを作って欲しいと\n",
    "依頼されました。機械学習プログラムを使って依頼に応えましょう。"
   ]
  },
  {
   "cell_type": "code",
   "execution_count": null,
   "metadata": {},
   "outputs": [],
   "source": []
  },
  {
   "cell_type": "code",
   "execution_count": 2,
   "metadata": {},
   "outputs": [
    {
     "data": {
      "text/html": [
       "<div>\n",
       "<style scoped>\n",
       "    .dataframe tbody tr th:only-of-type {\n",
       "        vertical-align: middle;\n",
       "    }\n",
       "\n",
       "    .dataframe tbody tr th {\n",
       "        vertical-align: top;\n",
       "    }\n",
       "\n",
       "    .dataframe thead th {\n",
       "        text-align: right;\n",
       "    }\n",
       "</style>\n",
       "<table border=\"1\" class=\"dataframe\">\n",
       "  <thead>\n",
       "    <tr style=\"text-align: right;\">\n",
       "      <th></th>\n",
       "      <th>housing_median_age</th>\n",
       "      <th>total_rooms</th>\n",
       "      <th>total_bedrooms</th>\n",
       "      <th>population</th>\n",
       "      <th>households</th>\n",
       "      <th>median_income</th>\n",
       "      <th>median_house_value</th>\n",
       "    </tr>\n",
       "  </thead>\n",
       "  <tbody>\n",
       "    <tr>\n",
       "      <th>0</th>\n",
       "      <td>41</td>\n",
       "      <td>880</td>\n",
       "      <td>129</td>\n",
       "      <td>322</td>\n",
       "      <td>126</td>\n",
       "      <td>8.3252</td>\n",
       "      <td>45.26</td>\n",
       "    </tr>\n",
       "    <tr>\n",
       "      <th>1</th>\n",
       "      <td>21</td>\n",
       "      <td>7099</td>\n",
       "      <td>1106</td>\n",
       "      <td>2401</td>\n",
       "      <td>1138</td>\n",
       "      <td>8.3014</td>\n",
       "      <td>35.85</td>\n",
       "    </tr>\n",
       "    <tr>\n",
       "      <th>2</th>\n",
       "      <td>52</td>\n",
       "      <td>1467</td>\n",
       "      <td>190</td>\n",
       "      <td>496</td>\n",
       "      <td>177</td>\n",
       "      <td>7.2574</td>\n",
       "      <td>35.21</td>\n",
       "    </tr>\n",
       "    <tr>\n",
       "      <th>3</th>\n",
       "      <td>52</td>\n",
       "      <td>1274</td>\n",
       "      <td>235</td>\n",
       "      <td>558</td>\n",
       "      <td>219</td>\n",
       "      <td>5.6431</td>\n",
       "      <td>34.13</td>\n",
       "    </tr>\n",
       "    <tr>\n",
       "      <th>4</th>\n",
       "      <td>52</td>\n",
       "      <td>1627</td>\n",
       "      <td>280</td>\n",
       "      <td>565</td>\n",
       "      <td>259</td>\n",
       "      <td>3.8462</td>\n",
       "      <td>34.22</td>\n",
       "    </tr>\n",
       "  </tbody>\n",
       "</table>\n",
       "</div>"
      ],
      "text/plain": [
       "   housing_median_age  total_rooms  total_bedrooms  population  households  \\\n",
       "0                  41          880             129         322         126   \n",
       "1                  21         7099            1106        2401        1138   \n",
       "2                  52         1467             190         496         177   \n",
       "3                  52         1274             235         558         219   \n",
       "4                  52         1627             280         565         259   \n",
       "\n",
       "   median_income  median_house_value  \n",
       "0         8.3252               45.26  \n",
       "1         8.3014               35.85  \n",
       "2         7.2574               35.21  \n",
       "3         5.6431               34.13  \n",
       "4         3.8462               34.22  "
      ]
     },
     "execution_count": 2,
     "metadata": {},
     "output_type": "execute_result"
    }
   ],
   "source": [
    "house.head()"
   ]
  },
  {
   "cell_type": "code",
   "execution_count": 3,
   "metadata": {},
   "outputs": [
    {
     "data": {
      "text/plain": [
       "(1000, 7)"
      ]
     },
     "execution_count": 3,
     "metadata": {},
     "output_type": "execute_result"
    }
   ],
   "source": [
    "house.shape\n"
   ]
  },
  {
   "cell_type": "code",
   "execution_count": 4,
   "metadata": {},
   "outputs": [
    {
     "name": "stdout",
     "output_type": "stream",
     "text": [
      "(1000, 6)\n",
      "(1000,)\n",
      "     housing_median_age  total_rooms  total_bedrooms  population  households  \\\n",
      "0                    41          880             129         322         126   \n",
      "1                    21         7099            1106        2401        1138   \n",
      "2                    52         1467             190         496         177   \n",
      "3                    52         1274             235         558         219   \n",
      "4                    52         1627             280         565         259   \n",
      "..                  ...          ...             ...         ...         ...   \n",
      "995                  11        12070            2220        5826        2125   \n",
      "996                  25          494              81         254          85   \n",
      "997                  22         5533             943        2474         910   \n",
      "998                  17         3956             639        2222         662   \n",
      "999                  12         1906             351         802         319   \n",
      "\n",
      "     median_income  \n",
      "0           8.3252  \n",
      "1           8.3014  \n",
      "2           7.2574  \n",
      "3           5.6431  \n",
      "4           3.8462  \n",
      "..             ...  \n",
      "995         4.8624  \n",
      "996         9.1531  \n",
      "997         4.7361  \n",
      "998         5.4324  \n",
      "999         4.9375  \n",
      "\n",
      "[1000 rows x 6 columns]\n",
      "0      45.26\n",
      "1      35.85\n",
      "2      35.21\n",
      "3      34.13\n",
      "4      34.22\n",
      "       ...  \n",
      "995    19.24\n",
      "996    41.88\n",
      "997    21.68\n",
      "998    21.55\n",
      "999    22.77\n",
      "Name: median_house_value, Length: 1000, dtype: float64\n"
     ]
    }
   ],
   "source": [
    "X=house[['housing_median_age', 'total_rooms', 'total_bedrooms', 'population', 'households', 'median_income']]\n",
    "Y=house['median_house_value']\n",
    "\n",
    "print(X.shape)\n",
    "print(Y.shape)\n",
    "print(X)\n",
    "print(Y)\n"
   ]
  },
  {
   "cell_type": "code",
   "execution_count": 1,
   "metadata": {},
   "outputs": [
    {
     "ename": "NameError",
     "evalue": "name 'X' is not defined",
     "output_type": "error",
     "traceback": [
      "\u001b[0;31m---------------------------------------------------------------------------\u001b[0m",
      "\u001b[0;31mNameError\u001b[0m                                 Traceback (most recent call last)",
      "\u001b[0;32m<ipython-input-1-6a3d60a8aa48>\u001b[0m in \u001b[0;36m<module>\u001b[0;34m\u001b[0m\n\u001b[0;32m----> 1\u001b[0;31m \u001b[0mprint\u001b[0m\u001b[0;34m(\u001b[0m\u001b[0mX\u001b[0m\u001b[0;34m.\u001b[0m\u001b[0mshape\u001b[0m\u001b[0;34m)\u001b[0m\u001b[0;34m\u001b[0m\u001b[0;34m\u001b[0m\u001b[0m\n\u001b[0m\u001b[1;32m      2\u001b[0m \u001b[0mprint\u001b[0m\u001b[0;34m(\u001b[0m\u001b[0mY\u001b[0m\u001b[0;34m.\u001b[0m\u001b[0mshape\u001b[0m\u001b[0;34m)\u001b[0m\u001b[0;34m\u001b[0m\u001b[0;34m\u001b[0m\u001b[0m\n\u001b[1;32m      3\u001b[0m \u001b[0mprint\u001b[0m\u001b[0;34m(\u001b[0m\u001b[0mX\u001b[0m\u001b[0;34m)\u001b[0m\u001b[0;34m\u001b[0m\u001b[0;34m\u001b[0m\u001b[0m\n\u001b[1;32m      4\u001b[0m \u001b[0mprint\u001b[0m\u001b[0;34m(\u001b[0m\u001b[0mY\u001b[0m\u001b[0;34m)\u001b[0m\u001b[0;34m\u001b[0m\u001b[0;34m\u001b[0m\u001b[0m\n",
      "\u001b[0;31mNameError\u001b[0m: name 'X' is not defined"
     ]
    }
   ],
   "source": [
    "print(X.shape)\n",
    "print(Y.shape)\n",
    "print(X)\n",
    "print(Y)\n"
   ]
  },
  {
   "cell_type": "code",
   "execution_count": 3,
   "metadata": {},
   "outputs": [],
   "source": [
    "import pandas as pd \n",
    "house = pd.read_csv('https://raw.githubusercontent.com/we-b/datasets_for_ai/master/cal_house.csv')"
   ]
  },
  {
   "cell_type": "code",
   "execution_count": 4,
   "metadata": {},
   "outputs": [
    {
     "name": "stdout",
     "output_type": "stream",
     "text": [
      "(1000, 6)\n",
      "(1000,)\n",
      "     housing_median_age  total_rooms  total_bedrooms  population  households  \\\n",
      "0                    41          880             129         322         126   \n",
      "1                    21         7099            1106        2401        1138   \n",
      "2                    52         1467             190         496         177   \n",
      "3                    52         1274             235         558         219   \n",
      "4                    52         1627             280         565         259   \n",
      "..                  ...          ...             ...         ...         ...   \n",
      "995                  11        12070            2220        5826        2125   \n",
      "996                  25          494              81         254          85   \n",
      "997                  22         5533             943        2474         910   \n",
      "998                  17         3956             639        2222         662   \n",
      "999                  12         1906             351         802         319   \n",
      "\n",
      "     median_income  \n",
      "0           8.3252  \n",
      "1           8.3014  \n",
      "2           7.2574  \n",
      "3           5.6431  \n",
      "4           3.8462  \n",
      "..             ...  \n",
      "995         4.8624  \n",
      "996         9.1531  \n",
      "997         4.7361  \n",
      "998         5.4324  \n",
      "999         4.9375  \n",
      "\n",
      "[1000 rows x 6 columns]\n",
      "0      45.26\n",
      "1      35.85\n",
      "2      35.21\n",
      "3      34.13\n",
      "4      34.22\n",
      "       ...  \n",
      "995    19.24\n",
      "996    41.88\n",
      "997    21.68\n",
      "998    21.55\n",
      "999    22.77\n",
      "Name: median_house_value, Length: 1000, dtype: float64\n"
     ]
    }
   ],
   "source": [
    "X=house[['housing_median_age', 'total_rooms', 'total_bedrooms', 'population', 'households', 'median_income']]\n",
    "Y=house['median_house_value']\n",
    "\n",
    "print(X.shape)\n",
    "print(Y.shape)\n",
    "print(X)\n",
    "print(Y)\n",
    "\n"
   ]
  },
  {
   "cell_type": "code",
   "execution_count": 5,
   "metadata": {},
   "outputs": [],
   "source": [
    "import pandas as pd \n",
    "house = pd.read_csv('https://raw.githubusercontent.com/we-b/datasets_for_ai/master/cal_house.csv')"
   ]
  },
  {
   "cell_type": "code",
   "execution_count": 6,
   "metadata": {},
   "outputs": [
    {
     "name": "stdout",
     "output_type": "stream",
     "text": [
      "(1000, 6)\n",
      "(1000,)\n",
      "     housing_median_age  total_rooms  total_bedrooms  population  households  \\\n",
      "0                    41          880             129         322         126   \n",
      "1                    21         7099            1106        2401        1138   \n",
      "2                    52         1467             190         496         177   \n",
      "3                    52         1274             235         558         219   \n",
      "4                    52         1627             280         565         259   \n",
      "..                  ...          ...             ...         ...         ...   \n",
      "995                  11        12070            2220        5826        2125   \n",
      "996                  25          494              81         254          85   \n",
      "997                  22         5533             943        2474         910   \n",
      "998                  17         3956             639        2222         662   \n",
      "999                  12         1906             351         802         319   \n",
      "\n",
      "     median_income  \n",
      "0           8.3252  \n",
      "1           8.3014  \n",
      "2           7.2574  \n",
      "3           5.6431  \n",
      "4           3.8462  \n",
      "..             ...  \n",
      "995         4.8624  \n",
      "996         9.1531  \n",
      "997         4.7361  \n",
      "998         5.4324  \n",
      "999         4.9375  \n",
      "\n",
      "[1000 rows x 6 columns]\n",
      "0      45.26\n",
      "1      35.85\n",
      "2      35.21\n",
      "3      34.13\n",
      "4      34.22\n",
      "       ...  \n",
      "995    19.24\n",
      "996    41.88\n",
      "997    21.68\n",
      "998    21.55\n",
      "999    22.77\n",
      "Name: median_house_value, Length: 1000, dtype: float64\n"
     ]
    }
   ],
   "source": [
    "X=house[['housing_median_age', 'total_rooms', 'total_bedrooms', 'population', 'households', 'median_income']]\n",
    "Y=house['median_house_value']\n",
    "\n",
    "print(X.shape)\n",
    "print(Y.shape)\n",
    "print(X)\n",
    "print(Y)\n"
   ]
  },
  {
   "cell_type": "code",
   "execution_count": 10,
   "metadata": {},
   "outputs": [],
   "source": [
    "from sklearn.model_selection import train_test_split\n",
    "X_train,X_test,Y_train,y_test=train_test_split(X,Y,test_size=0.3)"
   ]
  },
  {
   "cell_type": "code",
   "execution_count": 11,
   "metadata": {},
   "outputs": [
    {
     "name": "stdout",
     "output_type": "stream",
     "text": [
      "(700, 6)\n",
      "(700,)\n",
      "(300, 6)\n"
     ]
    },
    {
     "ename": "NameError",
     "evalue": "name 'Y_test' is not defined",
     "output_type": "error",
     "traceback": [
      "\u001b[0;31m---------------------------------------------------------------------------\u001b[0m",
      "\u001b[0;31mNameError\u001b[0m                                 Traceback (most recent call last)",
      "\u001b[0;32m<ipython-input-11-bbc6d6dca0eb>\u001b[0m in \u001b[0;36m<module>\u001b[0;34m\u001b[0m\n\u001b[1;32m      2\u001b[0m \u001b[0mprint\u001b[0m\u001b[0;34m(\u001b[0m\u001b[0mY_train\u001b[0m\u001b[0;34m.\u001b[0m\u001b[0mshape\u001b[0m\u001b[0;34m)\u001b[0m\u001b[0;34m\u001b[0m\u001b[0;34m\u001b[0m\u001b[0m\n\u001b[1;32m      3\u001b[0m \u001b[0mprint\u001b[0m\u001b[0;34m(\u001b[0m\u001b[0mX_test\u001b[0m\u001b[0;34m.\u001b[0m\u001b[0mshape\u001b[0m\u001b[0;34m)\u001b[0m\u001b[0;34m\u001b[0m\u001b[0;34m\u001b[0m\u001b[0m\n\u001b[0;32m----> 4\u001b[0;31m \u001b[0mprint\u001b[0m\u001b[0;34m(\u001b[0m\u001b[0mY_test\u001b[0m\u001b[0;34m.\u001b[0m\u001b[0mshape\u001b[0m\u001b[0;34m)\u001b[0m\u001b[0;34m\u001b[0m\u001b[0;34m\u001b[0m\u001b[0m\n\u001b[0m",
      "\u001b[0;31mNameError\u001b[0m: name 'Y_test' is not defined"
     ]
    }
   ],
   "source": [
    "print(X_train.shape)\n",
    "print(Y_train.shape)\n",
    "print(X_test.shape)\n",
    "print(Y_test.shape)"
   ]
  },
  {
   "cell_type": "code",
   "execution_count": 12,
   "metadata": {},
   "outputs": [],
   "source": [
    "from sklearn.model_selection import train_test_split\n",
    "X_train,X_test,Y_train,Y_test=train_test_split(X,Y,test_size=0.3)"
   ]
  },
  {
   "cell_type": "code",
   "execution_count": 13,
   "metadata": {},
   "outputs": [
    {
     "name": "stdout",
     "output_type": "stream",
     "text": [
      "(700, 6)\n",
      "(700,)\n",
      "(300, 6)\n",
      "(300,)\n"
     ]
    }
   ],
   "source": [
    "print(X_train.shape)\n",
    "print(Y_train.shape)\n",
    "print(X_test.shape)\n",
    "print(Y_test.shape)"
   ]
  },
  {
   "cell_type": "code",
   "execution_count": 15,
   "metadata": {},
   "outputs": [],
   "source": [
    " from sklearn.linear_model import LinearRegression"
   ]
  },
  {
   "cell_type": "code",
   "execution_count": 16,
   "metadata": {},
   "outputs": [],
   "source": [
    "lr=LinearRegression()"
   ]
  },
  {
   "cell_type": "code",
   "execution_count": 17,
   "metadata": {},
   "outputs": [
    {
     "data": {
      "text/plain": [
       "LinearRegression(copy_X=True, fit_intercept=True, n_jobs=None, normalize=False)"
      ]
     },
     "execution_count": 17,
     "metadata": {},
     "output_type": "execute_result"
    }
   ],
   "source": [
    "lr.fit(X_train,Y_train)"
   ]
  },
  {
   "cell_type": "code",
   "execution_count": 19,
   "metadata": {},
   "outputs": [
    {
     "name": "stdout",
     "output_type": "stream",
     "text": [
      "[ 8.96485095e-02  9.39136786e-05  2.49477355e-03 -3.57932429e-03\n",
      "  8.91671237e-03  3.96509775e+00]\n",
      "1.1588186006081678\n"
     ]
    }
   ],
   "source": [
    "print(lr.coef_)\n",
    "print(lr.intercept_)"
   ]
  },
  {
   "cell_type": "code",
   "execution_count": 20,
   "metadata": {},
   "outputs": [
    {
     "name": "stdout",
     "output_type": "stream",
     "text": [
      "0.637546165293873\n"
     ]
    }
   ],
   "source": [
    "print(lr.score(X_train,Y_train))"
   ]
  },
  {
   "cell_type": "code",
   "execution_count": 21,
   "metadata": {},
   "outputs": [
    {
     "name": "stdout",
     "output_type": "stream",
     "text": [
      "0.6029987155139291\n"
     ]
    }
   ],
   "source": [
    "print(lr.score(X_test,Y_test))"
   ]
  },
  {
   "cell_type": "code",
   "execution_count": 22,
   "metadata": {},
   "outputs": [],
   "source": [
    "import numpy as np"
   ]
  },
  {
   "cell_type": "code",
   "execution_count": 26,
   "metadata": {},
   "outputs": [],
   "source": [
    "import matplotlib.pyplot as plt\n",
    "%matplotlib inline"
   ]
  },
  {
   "cell_type": "code",
   "execution_count": 31,
   "metadata": {},
   "outputs": [],
   "source": [
    "def func(x):\n",
    "    return np.sin(2*np.pi*x)"
   ]
  },
  {
   "cell_type": "code",
   "execution_count": 34,
   "metadata": {},
   "outputs": [
    {
     "ename": "SyntaxError",
     "evalue": "invalid syntax (<ipython-input-34-885d9c6b9bff>, line 1)",
     "output_type": "error",
     "traceback": [
      "\u001b[0;36m  File \u001b[0;32m\"<ipython-input-34-885d9c6b9bff>\"\u001b[0;36m, line \u001b[0;32m1\u001b[0m\n\u001b[0;31m    def create_toi_data(func,low=2, high=1, size=10, sigma=1.0)\u001b[0m\n\u001b[0m                                                               ^\u001b[0m\n\u001b[0;31mSyntaxError\u001b[0m\u001b[0;31m:\u001b[0m invalid syntax\n"
     ]
    }
   ],
   "source": [
    "def create_toi_data(func,low=2, high=1, size=10, sigma=1.0)\n",
    "    x=np.random.uniform(low,high,size)  #一様分布に従う、0~1の間にある数xをランダムに10個生成\n",
    "    t=func(x)_np.random.normal(scale=sigma,size=size)  #t=sin(2πx)+[平均0,標準偏差1の正規分布に従う乱数]となるtを10個生成\n",
    "    return x,t\n"
   ]
  },
  {
   "cell_type": "code",
   "execution_count": 35,
   "metadata": {},
   "outputs": [],
   "source": [
    "#y=sin(2πx)を定義\n",
    "def func(x):\n",
    "    return np.sin(2 * np.pi * x)    #sin(2πx)。np.piがπ。\n",
    "\n",
    "#分析用のダミーのデータ(x,t)を作成\n",
    "def create_toy_data(func, low=0, high=1, size=10, sigma=1.0):\n",
    "    x = np.random.uniform(low, high, size)   \n",
    "    t = func(x) + np.random.normal(scale=sigma, size=size)  #t=sin(2πx)+[平均0,標準偏差1の正規分布に従う乱数]となるtを10個生成\n",
    "    return x, t\n"
   ]
  },
  {
   "cell_type": "code",
   "execution_count": 38,
   "metadata": {},
   "outputs": [
    {
     "data": {
      "image/png": "[encoded data removed]",
      "text/plain": [
       "<Figure size 432x288 with 1 Axes>"
      ]
     },
     "metadata": {
      "needs_background": "light"
     },
     "output_type": "display_data"
    }
   ],
   "source": [
    "import numpy as np\n",
    "from scipy.stats import uniform\n",
    "import matplotlib.pyplot as plt\n",
    "\n",
    "X_u=np.arange(0,1,0.01)\n",
    "Y_u=uniform.pdf(X_u)\n",
    "\n",
    "plt.plot(X_u,Y_u,color=\"blue\")\n",
    "plt.show()"
   ]
  },
  {
   "cell_type": "code",
   "execution_count": 40,
   "metadata": {},
   "outputs": [
    {
     "data": {
      "image/png": "[encoded data removed]",
      "text/plain": [
       "<Figure size 432x288 with 1 Axes>"
      ]
     },
     "metadata": {
      "needs_background": "light"
     },
     "output_type": "display_data"
    }
   ],
   "source": [
    "import numpy as np\n",
    "from scipy.stats import  norm\n",
    "import matplotlib.pyplot as plt\n",
    "\n",
    "X_n=np.arange(-5,5,0.1)\n",
    "Y_n=norm.pdf(X_n,0,1)\n",
    "\n",
    "plt.plot(X_n,Y_n,color=\"red\")\n",
    "plt.show()"
   ]
  },
  {
   "cell_type": "code",
   "execution_count": 41,
   "metadata": {},
   "outputs": [
    {
     "data": {
      "image/png": "[encoded data removed]",
      "text/plain": [
       "<Figure size 432x288 with 1 Axes>"
      ]
     },
     "metadata": {
      "needs_background": "light"
     },
     "output_type": "display_data"
    }
   ],
   "source": [
    "x,t=create_toy_data(func,low=0,high=1,size=10,sigma=0.25)\n",
    "plt.scatter(x,t,s=50,marker=\"o\",alpha=0.5,label=\"observation\")\n",
    "plt.legend()\n",
    "plt.show()"
   ]
  },
  {
   "cell_type": "code",
   "execution_count": 42,
   "metadata": {},
   "outputs": [
    {
     "data": {
      "image/png": "[encoded data removed]",
      "text/plain": [
       "<Figure size 432x288 with 1 Axes>"
      ]
     },
     "metadata": {
      "needs_background": "light"
     },
     "output_type": "display_data"
    }
   ],
   "source": [
    "\n",
    "x, t = create_toy_data(func, low=0, high=1, size=10, sigma=0.25)\n",
    "plt.scatter(x, t, s=50, marker='o', alpha=0.5, label=\"observation\")\n",
    "plt.legend()\n",
    "plt.show()\n"
   ]
  },
  {
   "cell_type": "code",
   "execution_count": 43,
   "metadata": {},
   "outputs": [],
   "source": [
    "from sklearn.linear_model import LinearRegression\n",
    "from sklearn.preprocessing import PolynomialFeatures\n"
   ]
  },
  {
   "cell_type": "code",
   "execution_count": 46,
   "metadata": {},
   "outputs": [],
   "source": [
    "model=LinearRegression()"
   ]
  },
  {
   "cell_type": "code",
   "execution_count": 47,
   "metadata": {},
   "outputs": [
    {
     "name": "stdout",
     "output_type": "stream",
     "text": [
      "[[0.47369395]\n",
      " [0.24980762]\n",
      " [0.37476658]\n",
      " [0.08149268]\n",
      " [0.95972749]\n",
      " [0.63618756]\n",
      " [0.06321864]\n",
      " [0.92814638]\n",
      " [0.9863231 ]\n",
      " [0.18513249]]\n"
     ]
    }
   ],
   "source": [
    "x_r=x.reshape(-1,1)\n",
    "print(x_r)"
   ]
  },
  {
   "cell_type": "code",
   "execution_count": 48,
   "metadata": {},
   "outputs": [
    {
     "name": "stdout",
     "output_type": "stream",
     "text": [
      "[[1.00000000e+00 4.73693948e-01 2.24385957e-01 1.06290270e-01\n",
      "  5.03490576e-02 2.38500439e-02]\n",
      " [1.00000000e+00 2.49807617e-01 6.24038454e-02 1.55889559e-02\n",
      "  3.89423992e-03 9.72810795e-04]\n",
      " [1.00000000e+00 3.74766575e-01 1.40449986e-01 5.26359603e-02\n",
      "  1.97261986e-02 7.39271989e-03]\n",
      " [1.00000000e+00 8.14926844e-02 6.64105762e-03 5.41197613e-04\n",
      "  4.41036463e-05 3.59412453e-06]\n",
      " [1.00000000e+00 9.59727493e-01 9.21076860e-01 8.83982785e-01\n",
      "  8.48382582e-01 8.14216088e-01]\n",
      " [1.00000000e+00 6.36187558e-01 4.04734608e-01 2.57487122e-01\n",
      "  1.63810103e-01 1.04213949e-01]\n",
      " [1.00000000e+00 6.32186429e-02 3.99659681e-03 2.52659426e-04\n",
      "  1.59727861e-05 1.00977786e-06]\n",
      " [1.00000000e+00 9.28146380e-01 8.61455703e-01 7.99556992e-01\n",
      "  7.42105928e-01 6.88782931e-01]\n",
      " [1.00000000e+00 9.86323104e-01 9.72833266e-01 9.59527926e-01\n",
      "  9.46404563e-01 9.33460686e-01]\n",
      " [1.00000000e+00 1.85132488e-01 3.42740380e-02 6.34523792e-03\n",
      "  1.17470968e-03 2.17476926e-04]]\n"
     ]
    }
   ],
   "source": [
    " poly=PolynomialFeatures(degree=5)\n",
    "X_train=poly.fit_transform(x_r)\n",
    "print(X_train)\n"
   ]
  },
  {
   "cell_type": "code",
   "execution_count": 49,
   "metadata": {},
   "outputs": [
    {
     "data": {
      "text/plain": [
       "LinearRegression(copy_X=True, fit_intercept=True, n_jobs=None, normalize=False)"
      ]
     },
     "execution_count": 49,
     "metadata": {},
     "output_type": "execute_result"
    }
   ],
   "source": [
    "model.fit(X_train,t)"
   ]
  },
  {
   "cell_type": "code",
   "execution_count": 50,
   "metadata": {},
   "outputs": [],
   "source": [
    "x_test=np.linspace(0,1,100)\n",
    "X_test=poly.transform(x_test.reshape(-1,1))"
   ]
  },
  {
   "cell_type": "code",
   "execution_count": 51,
   "metadata": {},
   "outputs": [
    {
     "data": {
      "image/png": "[encoded data removed]",
      "text/plain": [
       "<Figure size 432x288 with 1 Axes>"
      ]
     },
     "metadata": {
      "needs_background": "light"
     },
     "output_type": "display_data"
    }
   ],
   "source": [
    "pred_y=model.predict(X_test)\n",
    "\n",
    "plt.scatter(x, t, s=50, marker='o', alpha=0.5, label=\"observation\")\n",
    "plt.plot(x_test,func(x_test),color=\"blue\",label=\"sin($2\\pi x$)\")\n",
    "plt.plot(x_test,pred_y,color=\"red\",label=\"predict_mean\")\n",
    "plt.legend()\n",
    "plt.xlabel(\"x\")\n",
    "plt.ylabel(\"t\")\n",
    "plt.show()"
   ]
  },
  {
   "cell_type": "code",
   "execution_count": 53,
   "metadata": {},
   "outputs": [
    {
     "name": "stdout",
     "output_type": "stream",
     "text": [
      "[   0.            1.29248117   31.9271729  -141.73708655  172.84030156\n",
      "  -64.39310777]\n",
      "0.17201580015970588\n",
      "0.8978109143593256\n"
     ]
    }
   ],
   "source": [
    "print(model.coef_)\n",
    "\n",
    "print(model.intercept_)\n",
    "\n",
    "print(model.score(X_train,t))"
   ]
  },
  {
   "cell_type": "code",
   "execution_count": null,
   "metadata": {},
   "outputs": [],
   "source": []
  },
  {
   "cell_type": "code",
   "execution_count": null,
   "metadata": {},
   "outputs": [],
   "source": []
  }
 ],
 "metadata": {
  "kernelspec": {
   "display_name": "Python 3",
   "language": "python",
   "name": "python3"
  },
  "language_info": {
   "codemirror_mode": {
    "name": "ipython",
    "version": 3
   },
   "file_extension": ".py",
   "mimetype": "text/x-python",
   "name": "python",
   "nbconvert_exporter": "python",
   "pygments_lexer": "ipython3",
   "version": "3.6.8"
  }
 },
 "nbformat": 4,
 "nbformat_minor": 2
}
